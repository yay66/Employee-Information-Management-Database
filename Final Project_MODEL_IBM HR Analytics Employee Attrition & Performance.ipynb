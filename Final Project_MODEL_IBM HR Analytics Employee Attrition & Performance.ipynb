{
 "cells": [
  {
   "cell_type": "markdown",
   "metadata": {},
   "source": [
    "# IBM HR Analytics Employee Attrition & Performance"
   ]
  },
  {
   "cell_type": "markdown",
   "metadata": {},
   "source": [

   ]
  },
  {
   "cell_type": "code",
   "execution_count": 4,
   "metadata": {},
   "outputs": [],
   "source": [
    "import pandas as pd\n",
    "import numpy as np\n",
    "import seaborn as sns\n",
    "import warnings\n",
    "import matplotlib.pyplot as plt\n",
    "import statsmodels.api as sm \n",
    "\n",
    "from sklearn.feature_selection import RFECV\n",
    "from sklearn import datasets\n",
    "from sklearn.metrics import *\n",
    "from sklearn.svm import SVC\n",
    "from sklearn.cluster import KMeans\n",
    "from scipy.stats import norm, kurtosis\n",
    "from sklearn.decomposition import PCA\n",
    "from scipy.stats import norm, kurtosis\n",
    "from sklearn.mixture import GaussianMixture\n",
    "from sklearn.decomposition import FastICA\n",
    "from sklearn.naive_bayes import GaussianNB \n",
    "from sklearn.tree import DecisionTreeClassifier\n",
    "from sklearn.ensemble import RandomForestClassifier\n",
    "from sklearn.linear_model import LogisticRegression\n",
    "from sklearn.model_selection import train_test_split\n",
    "from sklearn.feature_selection import mutual_info_classif\n",
    "from sklearn.tree import plot_tree\n",
    "\n",
    "%matplotlib inline\n",
    "warnings.filterwarnings('ignore') #new\n",
    "\n",
    "\n",
    "def display_metrics(classifierName, Y_pred, Y_true):\n",
    "    print (\"______________________________________________\")\n",
    "    print (\"Model: \"+classifierName)\n",
    "    acc, precision, recall, f1score, auc = classification_metrics(Y_pred, Y_true)\n",
    "\n",
    "    print (\"Accuracy: \"+str(acc))\n",
    "    print (\"Precision: \"+str(precision))\n",
    "    print (\"Recall: \"+str(recall))\n",
    "    print (\"F1-score: \"+str(f1score))\n",
    "    print (\"AUC: \"+str(auc))\n",
    "    print (\"______________________________________________\")\n",
    "    print (\"\")\n",
    "    \n",
    "def classification_metrics(Y_pred, Y_true):\n",
    "    acc = accuracy_score(Y_true, Y_pred)\n",
    "    precision = precision_score(Y_true, Y_pred)\n",
    "    recall = recall_score(Y_true, Y_pred)\n",
    "    f1score = f1_score(Y_true, Y_pred)\n",
    "    auc = roc_auc_score(Y_true, y_pred)\n",
    "\n",
    "    return acc, precision, recall, f1score, auc\n",
    "\n",
    "    \n",
    "def display_metrics_acc(classifierName,Y_pred,Y_true):\n",
    "    acc, precision, recall, f1score, auc = classification_metrics(Y_pred,Y_true)\n",
    "    \n",
    "    return acc\n",
    "\n",
    "def display_metrics_precision(classifierName,Y_pred,Y_true):\n",
    "    acc, precision, recall, f1score, auc = classification_metrics(Y_pred,Y_true)\n",
    "    \n",
    "    return precision"
   ]
  },
  {
   "cell_type": "markdown",
   "metadata": {},
   "source": [
    "### Read in the data & Basic Exploration"
   ]
  },
  {
   "cell_type": "code",
   "execution_count": 5,
   "metadata": {},
   "outputs": [
    {
     "data": {
      "text/html": [
       "<div>\n",
       "<style scoped>\n",
       "    .dataframe tbody tr th:only-of-type {\n",
       "        vertical-align: middle;\n",
       "    }\n",
       "\n",
       "    .dataframe tbody tr th {\n",
       "        vertical-align: top;\n",
       "    }\n",
       "\n",
       "    .dataframe thead th {\n",
       "        text-align: right;\n",
       "    }\n",
       "</style>\n",
       "<table border=\"1\" class=\"dataframe\">\n",
       "  <thead>\n",
       "    <tr style=\"text-align: right;\">\n",
       "      <th></th>\n",
       "      <th>Age</th>\n",
       "      <th>Attrition</th>\n",
       "      <th>BusinessTravel</th>\n",
       "      <th>DailyRate</th>\n",
       "      <th>Department</th>\n",
       "      <th>DistanceFromHome</th>\n",
       "      <th>Education</th>\n",
       "      <th>EducationField</th>\n",
       "      <th>EmployeeCount</th>\n",
       "      <th>EmployeeNumber</th>\n",
       "      <th>...</th>\n",
       "      <th>RelationshipSatisfaction</th>\n",
       "      <th>StandardHours</th>\n",
       "      <th>StockOptionLevel</th>\n",
       "      <th>TotalWorkingYears</th>\n",
       "      <th>TrainingTimesLastYear</th>\n",
       "      <th>WorkLifeBalance</th>\n",
       "      <th>YearsAtCompany</th>\n",
       "      <th>YearsInCurrentRole</th>\n",
       "      <th>YearsSinceLastPromotion</th>\n",
       "      <th>YearsWithCurrManager</th>\n",
       "    </tr>\n",
       "  </thead>\n",
       "  <tbody>\n",
       "    <tr>\n",
       "      <th>0</th>\n",
       "      <td>41</td>\n",
       "      <td>Yes</td>\n",
       "      <td>Travel_Rarely</td>\n",
       "      <td>1102</td>\n",
       "      <td>Sales</td>\n",
       "      <td>1</td>\n",
       "      <td>2</td>\n",
       "      <td>Life Sciences</td>\n",
       "      <td>1</td>\n",
       "      <td>1</td>\n",
       "      <td>...</td>\n",
       "      <td>1</td>\n",
       "      <td>80</td>\n",
       "      <td>0</td>\n",
       "      <td>8</td>\n",
       "      <td>0</td>\n",
       "      <td>1</td>\n",
       "      <td>6</td>\n",
       "      <td>4</td>\n",
       "      <td>0</td>\n",
       "      <td>5</td>\n",
       "    </tr>\n",
       "    <tr>\n",
       "      <th>1</th>\n",
       "      <td>49</td>\n",
       "      <td>No</td>\n",
       "      <td>Travel_Frequently</td>\n",
       "      <td>279</td>\n",
       "      <td>Research &amp; Development</td>\n",
       "      <td>8</td>\n",
       "      <td>1</td>\n",
       "      <td>Life Sciences</td>\n",
       "      <td>1</td>\n",
       "      <td>2</td>\n",
       "      <td>...</td>\n",
       "      <td>4</td>\n",
       "      <td>80</td>\n",
       "      <td>1</td>\n",
       "      <td>10</td>\n",
       "      <td>3</td>\n",
       "      <td>3</td>\n",
       "      <td>10</td>\n",
       "      <td>7</td>\n",
       "      <td>1</td>\n",
       "      <td>7</td>\n",
       "    </tr>\n",
       "    <tr>\n",
       "      <th>2</th>\n",
       "      <td>37</td>\n",
       "      <td>Yes</td>\n",
       "      <td>Travel_Rarely</td>\n",
       "      <td>1373</td>\n",
       "      <td>Research &amp; Development</td>\n",
       "      <td>2</td>\n",
       "      <td>2</td>\n",
       "      <td>Other</td>\n",
       "      <td>1</td>\n",
       "      <td>4</td>\n",
       "      <td>...</td>\n",
       "      <td>2</td>\n",
       "      <td>80</td>\n",
       "      <td>0</td>\n",
       "      <td>7</td>\n",
       "      <td>3</td>\n",
       "      <td>3</td>\n",
       "      <td>0</td>\n",
       "      <td>0</td>\n",
       "      <td>0</td>\n",
       "      <td>0</td>\n",
       "    </tr>\n",
       "    <tr>\n",
       "      <th>3</th>\n",
       "      <td>33</td>\n",
       "      <td>No</td>\n",
       "      <td>Travel_Frequently</td>\n",
       "      <td>1392</td>\n",
       "      <td>Research &amp; Development</td>\n",
       "      <td>3</td>\n",
       "      <td>4</td>\n",
       "      <td>Life Sciences</td>\n",
       "      <td>1</td>\n",
       "      <td>5</td>\n",
       "      <td>...</td>\n",
       "      <td>3</td>\n",
       "      <td>80</td>\n",
       "      <td>0</td>\n",
       "      <td>8</td>\n",
       "      <td>3</td>\n",
       "      <td>3</td>\n",
       "      <td>8</td>\n",
       "      <td>7</td>\n",
       "      <td>3</td>\n",
       "      <td>0</td>\n",
       "    </tr>\n",
       "    <tr>\n",
       "      <th>4</th>\n",
       "      <td>27</td>\n",
       "      <td>No</td>\n",
       "      <td>Travel_Rarely</td>\n",
       "      <td>591</td>\n",
       "      <td>Research &amp; Development</td>\n",
       "      <td>2</td>\n",
       "      <td>1</td>\n",
       "      <td>Medical</td>\n",
       "      <td>1</td>\n",
       "      <td>7</td>\n",
       "      <td>...</td>\n",
       "      <td>4</td>\n",
       "      <td>80</td>\n",
       "      <td>1</td>\n",
       "      <td>6</td>\n",
       "      <td>3</td>\n",
       "      <td>3</td>\n",
       "      <td>2</td>\n",
       "      <td>2</td>\n",
       "      <td>2</td>\n",
       "      <td>2</td>\n",
       "    </tr>\n",
       "  </tbody>\n",
       "</table>\n",
       "<p>5 rows × 35 columns</p>\n",
       "</div>"
      ],
      "text/plain": [
       "   Age Attrition     BusinessTravel  DailyRate              Department  \\\n",
       "0   41       Yes      Travel_Rarely       1102                   Sales   \n",
       "1   49        No  Travel_Frequently        279  Research & Development   \n",
       "2   37       Yes      Travel_Rarely       1373  Research & Development   \n",
       "3   33        No  Travel_Frequently       1392  Research & Development   \n",
       "4   27        No      Travel_Rarely        591  Research & Development   \n",
       "\n",
       "   DistanceFromHome  Education EducationField  EmployeeCount  EmployeeNumber  \\\n",
       "0                 1          2  Life Sciences              1               1   \n",
       "1                 8          1  Life Sciences              1               2   \n",
       "2                 2          2          Other              1               4   \n",
       "3                 3          4  Life Sciences              1               5   \n",
       "4                 2          1        Medical              1               7   \n",
       "\n",
       "   ...  RelationshipSatisfaction StandardHours  StockOptionLevel  \\\n",
       "0  ...                         1            80                 0   \n",
       "1  ...                         4            80                 1   \n",
       "2  ...                         2            80                 0   \n",
       "3  ...                         3            80                 0   \n",
       "4  ...                         4            80                 1   \n",
       "\n",
       "   TotalWorkingYears  TrainingTimesLastYear WorkLifeBalance  YearsAtCompany  \\\n",
       "0                  8                      0               1               6   \n",
       "1                 10                      3               3              10   \n",
       "2                  7                      3               3               0   \n",
       "3                  8                      3               3               8   \n",
       "4                  6                      3               3               2   \n",
       "\n",
       "  YearsInCurrentRole  YearsSinceLastPromotion  YearsWithCurrManager  \n",
       "0                  4                        0                     5  \n",
       "1                  7                        1                     7  \n",
       "2                  0                        0                     0  \n",
       "3                  7                        3                     0  \n",
       "4                  2                        2                     2  \n",
       "\n",
       "[5 rows x 35 columns]"
      ]
     },
     "execution_count": 5,
     "metadata": {},
     "output_type": "execute_result"
    }
   ],
   "source": [
    "data = pd.read_csv('ibmhr.csv')\n",
    "data.head()"
   ]
  },
  {
   "cell_type": "markdown",
   "metadata": {},
   "source": [
    "## Main Analysis \n",
    "There are four models in the main analysis, namely Random Forest, Decision Tree, Logistic Regression, and Support Vector Machine.   The \"Attrition\" indicates whether the employee has left or not, if it is \"1\", the employee has left; if it is \"0\", the employee has not yet left. As \"Attrition\" our predictor variables. \n",
    "\n",
    "In this machine learning research, the target variables will be divided into three groups in order to determine which group has the highest model performance and accuracy, as well as to determine which features and factors have the most impact on the prediction model.\n",
    "\n",
    "Set 1. Use RFECV method and contains the ranked variables \n",
    "\n",
    "Set 2. contains all variables except non-numerical and strongly correlated variables\n",
    "\n",
    "Set 3. contains all variables and dummy all non-numerical variables\n",
    "\n"
   ]
  },
  {
   "cell_type": "markdown",
   "metadata": {},
   "source": [
    "### RFECV\n",
    "### Train the set"
   ]
  },
  {
   "cell_type": "code",
   "execution_count": 6,
   "metadata": {},
   "outputs": [],
   "source": [
    "df = data.copy()\n",
    "\n",
    "cat_feats = ['Gender','JobRole','BusinessTravel','Department','EducationField','MaritalStatus'] \n",
    "df = pd.get_dummies(data, columns=cat_feats, drop_first = True)\n",
    "df = df.drop(['Over18'], axis=1)\n",
    "df['OverTime'] = df['OverTime'].map({'Yes': 1, 'No': 0})\n",
    "df['Attrition'] = df['Attrition'].map({'Yes': 1, 'No': 0})\n",
    "df['PerformanceRating'] = df['PerformanceRating'].map({3: 0, 4: 1})\n",
    "\n",
    "target_variable_name = 'Attrition'\n",
    "target = df[target_variable_name].copy()\n",
    "\n",
    "df = df.drop(target_variable_name, axis=1).copy()"
   ]
  },
  {
   "cell_type": "code",
   "execution_count": 7,
   "metadata": {},
   "outputs": [
    {
     "name": "stdout",
     "output_type": "stream",
     "text": [
      "Number of features : 41\n",
      "Best features : Index(['Age', 'DistanceFromHome', 'Education', 'EnvironmentSatisfaction',\n",
      "       'JobInvolvement', 'JobLevel', 'JobSatisfaction', 'NumCompaniesWorked',\n",
      "       'OverTime', 'PercentSalaryHike', 'PerformanceRating',\n",
      "       'RelationshipSatisfaction', 'StandardHours', 'StockOptionLevel',\n",
      "       'TotalWorkingYears', 'TrainingTimesLastYear', 'WorkLifeBalance',\n",
      "       'YearsAtCompany', 'YearsInCurrentRole', 'YearsSinceLastPromotion',\n",
      "       'YearsWithCurrManager', 'Gender_Male', 'JobRole_Human Resources',\n",
      "       'JobRole_Laboratory Technician', 'JobRole_Manager',\n",
      "       'JobRole_Manufacturing Director', 'JobRole_Research Director',\n",
      "       'JobRole_Research Scientist', 'JobRole_Sales Executive',\n",
      "       'JobRole_Sales Representative', 'BusinessTravel_Travel_Frequently',\n",
      "       'BusinessTravel_Travel_Rarely', 'Department_Research & Development',\n",
      "       'Department_Sales', 'EducationField_Life Sciences',\n",
      "       'EducationField_Marketing', 'EducationField_Medical',\n",
      "       'EducationField_Other', 'EducationField_Technical Degree',\n",
      "       'MaritalStatus_Married', 'MaritalStatus_Single'],\n",
      "      dtype='object')\n"
     ]
    }
   ],
   "source": [
    "estimator_LR = LogisticRegression(C=2.1, penalty='l2',  solver='liblinear')\n",
    "selector_LR = RFECV(estimator_LR, step=1, cv=5,scoring='roc_auc', n_jobs = -1)\n",
    "selector_LR = selector_LR.fit(df, target)\n",
    "print('Number of features :', selector_LR.n_features_)\n",
    "print('Best features :', df.columns[selector_LR.support_])\n"
   ]
  },
  {
   "cell_type": "code",
   "execution_count": 8,
   "metadata": {},
   "outputs": [],
   "source": [
    "test = data.copy()\n",
    "\n",
    "cat_feats = ['Gender','JobRole','BusinessTravel','Department','EducationField','MaritalStatus'] \n",
    "test = pd.get_dummies(data, columns=cat_feats, drop_first = True)\n",
    "test = test.drop(['Over18'], axis=1)\n",
    "test['OverTime'] = test['OverTime'].map({'Yes': 1, 'No': 0})\n",
    "test['Attrition'] = test['Attrition'].map({'Yes': 1, 'No': 0})\n",
    "test['PerformanceRating'] = test['PerformanceRating'].map({3: 0, 4: 1})"
   ]
  },
  {
   "cell_type": "code",
   "execution_count": 9,
   "metadata": {},
   "outputs": [],
   "source": [
    "predictors1 = ['Age', 'DistanceFromHome', 'Education', 'EnvironmentSatisfaction',\n",
    "       'JobInvolvement', 'JobLevel', 'JobSatisfaction', 'NumCompaniesWorked',\n",
    "       'OverTime', 'PercentSalaryHike', 'PerformanceRating',\n",
    "       'RelationshipSatisfaction', 'StandardHours', 'StockOptionLevel',\n",
    "       'TotalWorkingYears', 'TrainingTimesLastYear', 'WorkLifeBalance',\n",
    "       'YearsAtCompany', 'YearsInCurrentRole', 'YearsSinceLastPromotion',\n",
    "       'YearsWithCurrManager', 'Gender_Male', 'JobRole_Human Resources',\n",
    "       'JobRole_Laboratory Technician', 'JobRole_Manager',\n",
    "       'JobRole_Manufacturing Director', 'JobRole_Research Director',\n",
    "       'JobRole_Research Scientist', 'JobRole_Sales Executive',\n",
    "       'JobRole_Sales Representative', 'BusinessTravel_Travel_Frequently',\n",
    "       'BusinessTravel_Travel_Rarely', 'Department_Research & Development',\n",
    "       'Department_Sales', 'EducationField_Life Sciences',\n",
    "       'EducationField_Marketing', 'EducationField_Medical',\n",
    "       'EducationField_Other', 'EducationField_Technical Degree',\n",
    "       'MaritalStatus_Married', 'MaritalStatus_Single']\n",
    "\n",
    "predictors2 = ['Age', 'DistanceFromHome', 'Education', 'EnvironmentSatisfaction',\n",
    "       'JobInvolvement', 'JobLevel', 'JobSatisfaction', 'NumCompaniesWorked',\n",
    "       'OverTime', 'PercentSalaryHike', 'PerformanceRating',\n",
    "       'RelationshipSatisfaction', 'StandardHours', 'StockOptionLevel',\n",
    "       'TotalWorkingYears', 'TrainingTimesLastYear', 'WorkLifeBalance',\n",
    "       'YearsAtCompany', 'YearsInCurrentRole', 'YearsSinceLastPromotion',\n",
    "       'YearsWithCurrManager', 'Gender_Male', 'JobRole_Human Resources',\n",
    "       'JobRole_Laboratory Technician', 'JobRole_Manager',\n",
    "       'JobRole_Manufacturing Director', 'JobRole_Research Director',\n",
    "       'JobRole_Research Scientist', 'JobRole_Sales Executive',\n",
    "       'JobRole_Sales Representative', 'BusinessTravel_Travel_Frequently',\n",
    "       'BusinessTravel_Travel_Rarely', 'Department_Research & Development',\n",
    "       'Department_Sales', 'EducationField_Life Sciences',\n",
    "       'EducationField_Marketing', 'EducationField_Medical',\n",
    "       'EducationField_Other', 'EducationField_Technical Degree',\n",
    "       'MaritalStatus_Married', 'MaritalStatus_Single']+[i for i in df.columns if i.startswith('Gender')][1:]"
   ]
  },
  {
   "cell_type": "code",
   "execution_count": 10,
   "metadata": {},
   "outputs": [
    {
     "name": "stdout",
     "output_type": "stream",
     "text": [
      "X variables:\n",
      " ['Age', 'DistanceFromHome', 'Education', 'EnvironmentSatisfaction', 'JobInvolvement', 'JobLevel', 'JobSatisfaction', 'NumCompaniesWorked', 'OverTime', 'PercentSalaryHike', 'PerformanceRating', 'RelationshipSatisfaction', 'StandardHours', 'StockOptionLevel', 'TotalWorkingYears', 'TrainingTimesLastYear', 'WorkLifeBalance', 'YearsAtCompany', 'YearsInCurrentRole', 'YearsSinceLastPromotion', 'YearsWithCurrManager', 'Gender_Male', 'JobRole_Human Resources', 'JobRole_Laboratory Technician', 'JobRole_Manager', 'JobRole_Manufacturing Director', 'JobRole_Research Director', 'JobRole_Research Scientist', 'JobRole_Sales Executive', 'JobRole_Sales Representative', 'BusinessTravel_Travel_Frequently', 'BusinessTravel_Travel_Rarely', 'Department_Research & Development', 'Department_Sales', 'EducationField_Life Sciences', 'EducationField_Marketing', 'EducationField_Medical', 'EducationField_Other', 'EducationField_Technical Degree', 'MaritalStatus_Married', 'MaritalStatus_Single']\n"
     ]
    }
   ],
   "source": [
    "X = test[predictors2] \n",
    "y = test['Attrition']\n",
    "print('X variables:\\n', [i for i in X.columns])\n",
    "X_train, X_test, y_train, y_test = train_test_split(X, y, test_size=0.3, random_state=42)"
   ]
  },
  {
   "cell_type": "code",
   "execution_count": 11,
   "metadata": {},
   "outputs": [],
   "source": [
    "X_train, X_test, y_train, y_test = train_test_split(X, y, test_size=0.3, random_state=42)\n"
   ]
  },
  {
   "cell_type": "markdown",
   "metadata": {},
   "source": [
    "# Decision Tree 1"
   ]
  },
  {
   "cell_type": "code",
   "execution_count": 12,
   "metadata": {},
   "outputs": [
    {
     "name": "stdout",
     "output_type": "stream",
     "text": [
      "Feature ranking:\n",
      "                             Feature Total Reduction of Criterion\n",
      "0                           OverTime                     0.198644\n",
      "1                           JobLevel                     0.117964\n",
      "2                  TotalWorkingYears                     0.090664\n",
      "3                   DistanceFromHome                     0.065117\n",
      "4                  PercentSalaryHike                     0.061935\n",
      "5               MaritalStatus_Single                     0.053799\n",
      "6            YearsSinceLastPromotion                     0.053114\n",
      "7                                Age                     0.050105\n",
      "8                     YearsAtCompany                     0.040553\n",
      "9                   Department_Sales                     0.039141\n",
      "10                  StockOptionLevel                     0.037063\n",
      "11              YearsWithCurrManager                     0.029724\n",
      "12           EnvironmentSatisfaction                     0.028225\n",
      "13                   JobSatisfaction                      0.02813\n",
      "14                    JobInvolvement                     0.025143\n",
      "15                NumCompaniesWorked                     0.024936\n",
      "16        JobRole_Research Scientist                     0.022194\n",
      "17  BusinessTravel_Travel_Frequently                     0.017095\n"
     ]
    },
    {
     "data": {
      "text/plain": [
       "<matplotlib.axes._subplots.AxesSubplot at 0x25fe53386d8>"
      ]
     },
     "execution_count": 12,
     "metadata": {},
     "output_type": "execute_result"
    },
    {
     "data": {
      "image/png": "[encoded data removed]",
      "text/plain": [
       "<Figure size 1080x720 with 1 Axes>"
      ]
     },
     "metadata": {
      "needs_background": "light"
     },
     "output_type": "display_data"
    }
   ],
   "source": [
    "model_dt = DecisionTreeClassifier(criterion='entropy', random_state=42, max_depth=5)\n",
    "model_dt.fit(X_train, y_train)\n",
    "importances = model_dt.feature_importances_ \n",
    "indices = np.argsort(importances)[::-1]\n",
    "print(\"Feature ranking:\")\n",
    "\n",
    "feature_names = X_train.columns \n",
    "\n",
    "fi = pd.DataFrame([feature_names[indices[0:18]], importances[indices][0:18]])\n",
    "fi = fi.T\n",
    "fi.columns = ['Feature', 'Total Reduction of Criterion']\n",
    "\n",
    "print(fi)\n",
    "\n",
    "plt.figure(figsize=(15,10))\n",
    "plt.title(\"Feature importances\")\n",
    "\n",
    "sns.barplot(x=\"Total Reduction of Criterion\", y=\"Feature\", data=fi, palette=\"BuPu_r\")"
   ]
  },
  {
   "cell_type": "code",
   "execution_count": 13,
   "metadata": {},
   "outputs": [
    {
     "name": "stdout",
     "output_type": "stream",
     "text": [
      "confusion matrix: \n",
      " [[365  15]\n",
      " [ 50  11]]\n",
      "______________________________________________\n",
      "Model: Decision Tree\n",
      "Accuracy: 0.8526077097505669\n",
      "Precision: 0.4230769230769231\n",
      "Recall: 0.18032786885245902\n",
      "F1-score: 0.2528735632183908\n",
      "AUC: 0.5704270923209663\n",
      "______________________________________________\n",
      "\n"
     ]
    }
   ],
   "source": [
    "y_pred = model_dt.predict(X_test)\n",
    "confusion_matrix_results = confusion_matrix(y_test, y_pred)\n",
    "print('confusion matrix: \\n', confusion_matrix_results)\n",
    "display_metrics('Decision Tree', y_pred, y_test)"
   ]
  },
  {
   "cell_type": "code",
   "execution_count": 14,
   "metadata": {},
   "outputs": [
    {
     "data": {
      "text/plain": [
       "[0.8526077097505669,\n",
       " 0.8435374149659864,\n",
       " 0.8321995464852607,\n",
       " 0.8231292517006803,\n",
       " 0.8027210884353742]"
      ]
     },
     "execution_count": 14,
     "metadata": {},
     "output_type": "execute_result"
    }
   ],
   "source": [
    "accuracies_dt4 = []\n",
    "max_depth = [5,6,7,8,9]\n",
    "for i in max_depth: \n",
    "    model_dt = DecisionTreeClassifier(criterion='entropy', random_state=42, max_depth=i)\n",
    "    model_dt.fit(X_train, y_train)\n",
    "    y_pred = model_dt.predict(X_test)\n",
    "    acc = display_metrics_acc('Decision Tree',y_pred,y_test)\n",
    "    \n",
    "    accuracies_dt4.append(acc)\n",
    "    \n",
    "accuracies_dt4"
   ]
  },
  {
   "cell_type": "markdown",
   "metadata": {},
   "source": [
    "### Random Forest 4"
   ]
  },
  {
   "cell_type": "code",
   "execution_count": 15,
   "metadata": {},
   "outputs": [
    {
     "name": "stdout",
     "output_type": "stream",
     "text": [
      "Feature ranking:\n",
      "                     Feature Total Reduction of Criterion\n",
      "0                        Age                     0.081285\n",
      "1          TotalWorkingYears                     0.064504\n",
      "2                   OverTime                     0.059334\n",
      "3           DistanceFromHome                     0.056896\n",
      "4             YearsAtCompany                     0.053663\n",
      "5         NumCompaniesWorked                      0.04697\n",
      "6          PercentSalaryHike                     0.043613\n",
      "7       YearsWithCurrManager                     0.040827\n",
      "8         YearsInCurrentRole                     0.038954\n",
      "9           StockOptionLevel                     0.036456\n",
      "10     TrainingTimesLastYear                      0.03571\n",
      "11   EnvironmentSatisfaction                      0.03272\n",
      "12           JobSatisfaction                     0.032381\n",
      "13   YearsSinceLastPromotion                     0.032163\n",
      "14                  JobLevel                     0.031967\n",
      "15  RelationshipSatisfaction                     0.031481\n",
      "16            JobInvolvement                     0.027207\n",
      "17                 Education                     0.026084\n"
     ]
    },
    {
     "data": {
      "text/plain": [
       "<matplotlib.axes._subplots.AxesSubplot at 0x25fe65e7748>"
      ]
     },
     "execution_count": 15,
     "metadata": {},
     "output_type": "execute_result"
    },
    {
     "data": {
      "image/png": "[encoded data removed]",
      "text/plain": [
       "<Figure size 1080x720 with 1 Axes>"
      ]
     },
     "metadata": {
      "needs_background": "light"
     },
     "output_type": "display_data"
    }
   ],
   "source": [
    "model_rf = RandomForestClassifier(n_estimators=500, random_state=101)\n",
    "model_rf.fit(X_train, y_train)\n",
    "importances = model_rf.feature_importances_\n",
    "indices = np.argsort(importances)[::-1]\n",
    "\n",
    "# Print the feature ranking\n",
    "print(\"Feature ranking:\")\n",
    "\n",
    "feature_names = X_train.columns \n",
    "\n",
    "fi = pd.DataFrame([feature_names[indices[0:18]], importances[indices][0:18]])\n",
    "fi = fi.T\n",
    "fi.columns = ['Feature', 'Total Reduction of Criterion']\n",
    "print(fi)\n",
    "\n",
    "\n",
    "plt.figure(figsize=(15,10))\n",
    "plt.title(\"Feature importances\")\n",
    "\n",
    "sns.set_color_codes(\"pastel\")\n",
    "sns.barplot(x=\"Total Reduction of Criterion\", y=\"Feature\", data=fi, palette=\"magma\")"
   ]
  },
  {
   "cell_type": "code",
   "execution_count": 16,
   "metadata": {},
   "outputs": [
    {
     "name": "stdout",
     "output_type": "stream",
     "text": [
      "confusion matrix: \n",
      " [[377   3]\n",
      " [ 55   6]]\n",
      "______________________________________________\n",
      "Model: Random Forest\n",
      "Accuracy: 0.8684807256235828\n",
      "Precision: 0.6666666666666666\n",
      "Recall: 0.09836065573770492\n",
      "F1-score: 0.1714285714285714\n",
      "AUC: 0.5452329594477998\n",
      "______________________________________________\n",
      "\n"
     ]
    }
   ],
   "source": [
    "y_pred = model_rf.predict(X_test)\n",
    "confusion_matrix_results = confusion_matrix(y_test, y_pred)\n",
    "print('confusion matrix: \\n', confusion_matrix_results)\n",
    "display_metrics('Random Forest', y_pred, y_test)"
   ]
  },
  {
   "cell_type": "code",
   "execution_count": 17,
   "metadata": {},
   "outputs": [
    {
     "data": {
      "text/plain": [
       "[0.8752834467120182,\n",
       " 0.8684807256235828,\n",
       " 0.8639455782312925,\n",
       " 0.8684807256235828,\n",
       " 0.8662131519274376]"
      ]
     },
     "execution_count": 17,
     "metadata": {},
     "output_type": "execute_result"
    }
   ],
   "source": [
    "accuracies_rf4 = []\n",
    "random_forest = [10,100,250,500,750]\n",
    "for i in random_forest: \n",
    "    model_rf = RandomForestClassifier(n_estimators=i, random_state=101)\n",
    "    model_rf.fit(X_train, y_train)\n",
    "    y_pred = model_rf.predict(X_test)\n",
    "    confusion_matrix_results = confusion_matrix(y_test, y_pred)\n",
    "    acc = display_metrics_acc('Random Forest', y_pred, y_test)\n",
    "    accuracies_rf4.append(acc)\n",
    "    \n",
    "accuracies_rf4"
   ]
  },
  {
   "cell_type": "markdown",
   "metadata": {},
   "source": [
    "### Logistic Regression 4"
   ]
  },
  {
   "cell_type": "code",
   "execution_count": 18,
   "metadata": {},
   "outputs": [
    {
     "name": "stdout",
     "output_type": "stream",
     "text": [
      "confusion matrix: \n",
      " [[369  11]\n",
      " [ 39  22]]\n",
      "______________________________________________\n",
      "Model: Logistic Regression\n",
      "Accuracy: 0.8866213151927438\n",
      "Precision: 0.6666666666666666\n",
      "Recall: 0.36065573770491804\n",
      "F1-score: 0.4680851063829787\n",
      "AUC: 0.6658541846419327\n",
      "______________________________________________\n",
      "\n"
     ]
    }
   ],
   "source": [
    "model = LogisticRegression()\n",
    "model.fit(X_train, y_train)\n",
    "\n",
    "y_pred = model.predict(X_test)\n",
    "\n",
    "confusion_matrix_results = confusion_matrix(y_test, y_pred)\n",
    "\n",
    "print('confusion matrix: \\n', confusion_matrix_results)\n",
    "display_metrics('Logistic Regression', y_pred, y_test)"
   ]
  },
  {
   "cell_type": "code",
   "execution_count": 19,
   "metadata": {},
   "outputs": [
    {
     "data": {
      "text/plain": [
       "0.88"
      ]
     },
     "execution_count": 19,
     "metadata": {},
     "output_type": "execute_result"
    }
   ],
   "source": [
    "accuracies_lr4 = []\n",
    "test_sizes = [0.3, 0.4, 0.5, 0.6, 0.7]\n",
    "for i in test_sizes: \n",
    "        \n",
    "    X_train, X_test, y_train, y_test = train_test_split(X, y, test_size=i, random_state=42)\n",
    "    model = LogisticRegression()\n",
    "    model.fit(X_train, y_train)\n",
    "    y_pred = model.predict(X_test)\n",
    "    \n",
    "    acc, precision, recall, f1score, auc = classification_metrics(y_pred, y_test)\n",
    "    \n",
    "    accuracies_lr4.append(acc)\n",
    "    \n",
    "round(np.mean(accuracies_lr4),2)"
   ]
  },
  {
   "cell_type": "code",
   "execution_count": 20,
   "metadata": {},
   "outputs": [
    {
     "data": {
      "text/plain": [
       "[0.8866213151927438,\n",
       " 0.9030612244897959,\n",
       " 0.8829931972789116,\n",
       " 0.8752834467120182,\n",
       " 0.8620019436345967]"
      ]
     },
     "execution_count": 20,
     "metadata": {},
     "output_type": "execute_result"
    }
   ],
   "source": [
    "accuracies_lr4"
   ]
  },
  {
   "cell_type": "code",
   "execution_count": 21,
   "metadata": {},
   "outputs": [
    {
     "name": "stdout",
     "output_type": "stream",
     "text": [
      "Warning: Maximum number of iterations has been exceeded.\n",
      "         Current function value: 0.292809\n",
      "         Iterations: 35\n"
     ]
    },
    {
     "data": {
      "text/html": [
       "<table class=\"simpletable\">\n",
       "<caption>Logit Regression Results</caption>\n",
       "<tr>\n",
       "  <th>Dep. Variable:</th>       <td>Attrition</td>    <th>  No. Observations:  </th>  <td>  1470</td>  \n",
       "</tr>\n",
       "<tr>\n",
       "  <th>Model:</th>                 <td>Logit</td>      <th>  Df Residuals:      </th>  <td>  1429</td>  \n",
       "</tr>\n",
       "<tr>\n",
       "  <th>Method:</th>                 <td>MLE</td>       <th>  Df Model:          </th>  <td>    40</td>  \n",
       "</tr>\n",
       "<tr>\n",
       "  <th>Date:</th>            <td>Fri, 25 Nov 2022</td> <th>  Pseudo R-squ.:     </th>  <td>0.3371</td>  \n",
       "</tr>\n",
       "<tr>\n",
       "  <th>Time:</th>                <td>04:18:38</td>     <th>  Log-Likelihood:    </th> <td> -430.43</td> \n",
       "</tr>\n",
       "<tr>\n",
       "  <th>converged:</th>             <td>False</td>      <th>  LL-Null:           </th> <td> -649.29</td> \n",
       "</tr>\n",
       "<tr>\n",
       "  <th>Covariance Type:</th>     <td>nonrobust</td>    <th>  LLR p-value:       </th> <td>2.327e-68</td>\n",
       "</tr>\n",
       "</table>\n",
       "<table class=\"simpletable\">\n",
       "<tr>\n",
       "                  <td></td>                     <th>coef</th>     <th>std err</th>      <th>z</th>      <th>P>|z|</th>  <th>[0.025</th>    <th>0.975]</th>  \n",
       "</tr>\n",
       "<tr>\n",
       "  <th>Age</th>                               <td>   -0.0313</td> <td>    0.014</td> <td>   -2.319</td> <td> 0.020</td> <td>   -0.058</td> <td>   -0.005</td>\n",
       "</tr>\n",
       "<tr>\n",
       "  <th>DistanceFromHome</th>                  <td>    0.0458</td> <td>    0.011</td> <td>    4.271</td> <td> 0.000</td> <td>    0.025</td> <td>    0.067</td>\n",
       "</tr>\n",
       "<tr>\n",
       "  <th>Education</th>                         <td>    0.0034</td> <td>    0.087</td> <td>    0.039</td> <td> 0.969</td> <td>   -0.168</td> <td>    0.175</td>\n",
       "</tr>\n",
       "<tr>\n",
       "  <th>EnvironmentSatisfaction</th>           <td>   -0.4334</td> <td>    0.083</td> <td>   -5.242</td> <td> 0.000</td> <td>   -0.595</td> <td>   -0.271</td>\n",
       "</tr>\n",
       "<tr>\n",
       "  <th>JobInvolvement</th>                    <td>   -0.5314</td> <td>    0.122</td> <td>   -4.348</td> <td> 0.000</td> <td>   -0.771</td> <td>   -0.292</td>\n",
       "</tr>\n",
       "<tr>\n",
       "  <th>JobLevel</th>                          <td>   -0.0543</td> <td>    0.231</td> <td>   -0.235</td> <td> 0.814</td> <td>   -0.507</td> <td>    0.398</td>\n",
       "</tr>\n",
       "<tr>\n",
       "  <th>JobSatisfaction</th>                   <td>   -0.4186</td> <td>    0.081</td> <td>   -5.156</td> <td> 0.000</td> <td>   -0.578</td> <td>   -0.259</td>\n",
       "</tr>\n",
       "<tr>\n",
       "  <th>NumCompaniesWorked</th>                <td>    0.1937</td> <td>    0.039</td> <td>    5.013</td> <td> 0.000</td> <td>    0.118</td> <td>    0.269</td>\n",
       "</tr>\n",
       "<tr>\n",
       "  <th>OverTime</th>                          <td>    1.9705</td> <td>    0.193</td> <td>   10.214</td> <td> 0.000</td> <td>    1.592</td> <td>    2.349</td>\n",
       "</tr>\n",
       "<tr>\n",
       "  <th>PercentSalaryHike</th>                 <td>   -0.0218</td> <td>    0.039</td> <td>   -0.557</td> <td> 0.577</td> <td>   -0.098</td> <td>    0.055</td>\n",
       "</tr>\n",
       "<tr>\n",
       "  <th>PerformanceRating</th>                 <td>    0.1041</td> <td>    0.396</td> <td>    0.263</td> <td> 0.792</td> <td>   -0.671</td> <td>    0.880</td>\n",
       "</tr>\n",
       "<tr>\n",
       "  <th>RelationshipSatisfaction</th>          <td>   -0.2571</td> <td>    0.082</td> <td>   -3.121</td> <td> 0.002</td> <td>   -0.419</td> <td>   -0.096</td>\n",
       "</tr>\n",
       "<tr>\n",
       "  <th>StandardHours</th>                     <td>   -0.2510</td> <td> 1063.884</td> <td>   -0.000</td> <td> 1.000</td> <td>-2085.425</td> <td> 2084.923</td>\n",
       "</tr>\n",
       "<tr>\n",
       "  <th>StockOptionLevel</th>                  <td>   -0.2088</td> <td>    0.157</td> <td>   -1.332</td> <td> 0.183</td> <td>   -0.516</td> <td>    0.098</td>\n",
       "</tr>\n",
       "<tr>\n",
       "  <th>TotalWorkingYears</th>                 <td>   -0.0610</td> <td>    0.029</td> <td>   -2.087</td> <td> 0.037</td> <td>   -0.118</td> <td>   -0.004</td>\n",
       "</tr>\n",
       "<tr>\n",
       "  <th>TrainingTimesLastYear</th>             <td>   -0.1920</td> <td>    0.073</td> <td>   -2.630</td> <td> 0.009</td> <td>   -0.335</td> <td>   -0.049</td>\n",
       "</tr>\n",
       "<tr>\n",
       "  <th>WorkLifeBalance</th>                   <td>   -0.3632</td> <td>    0.123</td> <td>   -2.943</td> <td> 0.003</td> <td>   -0.605</td> <td>   -0.121</td>\n",
       "</tr>\n",
       "<tr>\n",
       "  <th>YearsAtCompany</th>                    <td>    0.0945</td> <td>    0.039</td> <td>    2.429</td> <td> 0.015</td> <td>    0.018</td> <td>    0.171</td>\n",
       "</tr>\n",
       "<tr>\n",
       "  <th>YearsInCurrentRole</th>                <td>   -0.1516</td> <td>    0.045</td> <td>   -3.356</td> <td> 0.001</td> <td>   -0.240</td> <td>   -0.063</td>\n",
       "</tr>\n",
       "<tr>\n",
       "  <th>YearsSinceLastPromotion</th>           <td>    0.1782</td> <td>    0.042</td> <td>    4.244</td> <td> 0.000</td> <td>    0.096</td> <td>    0.261</td>\n",
       "</tr>\n",
       "<tr>\n",
       "  <th>YearsWithCurrManager</th>              <td>   -0.1350</td> <td>    0.047</td> <td>   -2.878</td> <td> 0.004</td> <td>   -0.227</td> <td>   -0.043</td>\n",
       "</tr>\n",
       "<tr>\n",
       "  <th>Gender_Male</th>                       <td>    0.3884</td> <td>    0.184</td> <td>    2.112</td> <td> 0.035</td> <td>    0.028</td> <td>    0.749</td>\n",
       "</tr>\n",
       "<tr>\n",
       "  <th>JobRole_Human Resources</th>           <td>   23.8259</td> <td> 8.51e+04</td> <td>    0.000</td> <td> 1.000</td> <td>-1.67e+05</td> <td> 1.67e+05</td>\n",
       "</tr>\n",
       "<tr>\n",
       "  <th>JobRole_Laboratory Technician</th>     <td>    1.4869</td> <td>    0.481</td> <td>    3.093</td> <td> 0.002</td> <td>    0.545</td> <td>    2.429</td>\n",
       "</tr>\n",
       "<tr>\n",
       "  <th>JobRole_Manager</th>                   <td>    0.4266</td> <td>    0.814</td> <td>    0.524</td> <td> 0.600</td> <td>   -1.168</td> <td>    2.022</td>\n",
       "</tr>\n",
       "<tr>\n",
       "  <th>JobRole_Manufacturing Director</th>    <td>    0.2587</td> <td>    0.530</td> <td>    0.488</td> <td> 0.626</td> <td>   -0.780</td> <td>    1.298</td>\n",
       "</tr>\n",
       "<tr>\n",
       "  <th>JobRole_Research Director</th>         <td>   -1.0190</td> <td>    0.951</td> <td>   -1.071</td> <td> 0.284</td> <td>   -2.883</td> <td>    0.845</td>\n",
       "</tr>\n",
       "<tr>\n",
       "  <th>JobRole_Research Scientist</th>        <td>    0.5491</td> <td>    0.492</td> <td>    1.115</td> <td> 0.265</td> <td>   -0.416</td> <td>    1.514</td>\n",
       "</tr>\n",
       "<tr>\n",
       "  <th>JobRole_Sales Executive</th>           <td>    1.2020</td> <td>    1.126</td> <td>    1.068</td> <td> 0.286</td> <td>   -1.004</td> <td>    3.408</td>\n",
       "</tr>\n",
       "<tr>\n",
       "  <th>JobRole_Sales Representative</th>      <td>    2.1385</td> <td>    1.179</td> <td>    1.814</td> <td> 0.070</td> <td>   -0.172</td> <td>    4.449</td>\n",
       "</tr>\n",
       "<tr>\n",
       "  <th>BusinessTravel_Travel_Frequently</th>  <td>    1.9246</td> <td>    0.410</td> <td>    4.692</td> <td> 0.000</td> <td>    1.121</td> <td>    2.729</td>\n",
       "</tr>\n",
       "<tr>\n",
       "  <th>BusinessTravel_Travel_Rarely</th>      <td>    1.0410</td> <td>    0.378</td> <td>    2.753</td> <td> 0.006</td> <td>    0.300</td> <td>    1.782</td>\n",
       "</tr>\n",
       "<tr>\n",
       "  <th>Department_Research & Development</th> <td>   22.5923</td> <td> 8.51e+04</td> <td>    0.000</td> <td> 1.000</td> <td>-1.67e+05</td> <td> 1.67e+05</td>\n",
       "</tr>\n",
       "<tr>\n",
       "  <th>Department_Sales</th>                  <td>   22.4157</td> <td> 8.51e+04</td> <td>    0.000</td> <td> 1.000</td> <td>-1.67e+05</td> <td> 1.67e+05</td>\n",
       "</tr>\n",
       "<tr>\n",
       "  <th>EducationField_Life Sciences</th>      <td>   -0.7887</td> <td>    0.803</td> <td>   -0.983</td> <td> 0.326</td> <td>   -2.362</td> <td>    0.784</td>\n",
       "</tr>\n",
       "<tr>\n",
       "  <th>EducationField_Marketing</th>          <td>   -0.3631</td> <td>    0.851</td> <td>   -0.426</td> <td> 0.670</td> <td>   -2.032</td> <td>    1.306</td>\n",
       "</tr>\n",
       "<tr>\n",
       "  <th>EducationField_Medical</th>            <td>   -0.8917</td> <td>    0.802</td> <td>   -1.112</td> <td> 0.266</td> <td>   -2.464</td> <td>    0.681</td>\n",
       "</tr>\n",
       "<tr>\n",
       "  <th>EducationField_Other</th>              <td>   -0.8712</td> <td>    0.861</td> <td>   -1.011</td> <td> 0.312</td> <td>   -2.559</td> <td>    0.817</td>\n",
       "</tr>\n",
       "<tr>\n",
       "  <th>EducationField_Technical Degree</th>   <td>    0.1212</td> <td>    0.820</td> <td>    0.148</td> <td> 0.882</td> <td>   -1.486</td> <td>    1.729</td>\n",
       "</tr>\n",
       "<tr>\n",
       "  <th>MaritalStatus_Married</th>             <td>    0.3211</td> <td>    0.266</td> <td>    1.209</td> <td> 0.227</td> <td>   -0.200</td> <td>    0.842</td>\n",
       "</tr>\n",
       "<tr>\n",
       "  <th>MaritalStatus_Single</th>              <td>    1.1589</td> <td>    0.344</td> <td>    3.371</td> <td> 0.001</td> <td>    0.485</td> <td>    1.833</td>\n",
       "</tr>\n",
       "</table>"
      ],
      "text/plain": [
       "<class 'statsmodels.iolib.summary.Summary'>\n",
       "\"\"\"\n",
       "                           Logit Regression Results                           \n",
       "==============================================================================\n",
       "Dep. Variable:              Attrition   No. Observations:                 1470\n",
       "Model:                          Logit   Df Residuals:                     1429\n",
       "Method:                           MLE   Df Model:                           40\n",
       "Date:                Fri, 25 Nov 2022   Pseudo R-squ.:                  0.3371\n",
       "Time:                        04:18:38   Log-Likelihood:                -430.43\n",
       "converged:                      False   LL-Null:                       -649.29\n",
       "Covariance Type:            nonrobust   LLR p-value:                 2.327e-68\n",
       "=====================================================================================================\n",
       "                                        coef    std err          z      P>|z|      [0.025      0.975]\n",
       "-----------------------------------------------------------------------------------------------------\n",
       "Age                                  -0.0313      0.014     -2.319      0.020      -0.058      -0.005\n",
       "DistanceFromHome                      0.0458      0.011      4.271      0.000       0.025       0.067\n",
       "Education                             0.0034      0.087      0.039      0.969      -0.168       0.175\n",
       "EnvironmentSatisfaction              -0.4334      0.083     -5.242      0.000      -0.595      -0.271\n",
       "JobInvolvement                       -0.5314      0.122     -4.348      0.000      -0.771      -0.292\n",
       "JobLevel                             -0.0543      0.231     -0.235      0.814      -0.507       0.398\n",
       "JobSatisfaction                      -0.4186      0.081     -5.156      0.000      -0.578      -0.259\n",
       "NumCompaniesWorked                    0.1937      0.039      5.013      0.000       0.118       0.269\n",
       "OverTime                              1.9705      0.193     10.214      0.000       1.592       2.349\n",
       "PercentSalaryHike                    -0.0218      0.039     -0.557      0.577      -0.098       0.055\n",
       "PerformanceRating                     0.1041      0.396      0.263      0.792      -0.671       0.880\n",
       "RelationshipSatisfaction             -0.2571      0.082     -3.121      0.002      -0.419      -0.096\n",
       "StandardHours                        -0.2510   1063.884     -0.000      1.000   -2085.425    2084.923\n",
       "StockOptionLevel                     -0.2088      0.157     -1.332      0.183      -0.516       0.098\n",
       "TotalWorkingYears                    -0.0610      0.029     -2.087      0.037      -0.118      -0.004\n",
       "TrainingTimesLastYear                -0.1920      0.073     -2.630      0.009      -0.335      -0.049\n",
       "WorkLifeBalance                      -0.3632      0.123     -2.943      0.003      -0.605      -0.121\n",
       "YearsAtCompany                        0.0945      0.039      2.429      0.015       0.018       0.171\n",
       "YearsInCurrentRole                   -0.1516      0.045     -3.356      0.001      -0.240      -0.063\n",
       "YearsSinceLastPromotion               0.1782      0.042      4.244      0.000       0.096       0.261\n",
       "YearsWithCurrManager                 -0.1350      0.047     -2.878      0.004      -0.227      -0.043\n",
       "Gender_Male                           0.3884      0.184      2.112      0.035       0.028       0.749\n",
       "JobRole_Human Resources              23.8259   8.51e+04      0.000      1.000   -1.67e+05    1.67e+05\n",
       "JobRole_Laboratory Technician         1.4869      0.481      3.093      0.002       0.545       2.429\n",
       "JobRole_Manager                       0.4266      0.814      0.524      0.600      -1.168       2.022\n",
       "JobRole_Manufacturing Director        0.2587      0.530      0.488      0.626      -0.780       1.298\n",
       "JobRole_Research Director            -1.0190      0.951     -1.071      0.284      -2.883       0.845\n",
       "JobRole_Research Scientist            0.5491      0.492      1.115      0.265      -0.416       1.514\n",
       "JobRole_Sales Executive               1.2020      1.126      1.068      0.286      -1.004       3.408\n",
       "JobRole_Sales Representative          2.1385      1.179      1.814      0.070      -0.172       4.449\n",
       "BusinessTravel_Travel_Frequently      1.9246      0.410      4.692      0.000       1.121       2.729\n",
       "BusinessTravel_Travel_Rarely          1.0410      0.378      2.753      0.006       0.300       1.782\n",
       "Department_Research & Development    22.5923   8.51e+04      0.000      1.000   -1.67e+05    1.67e+05\n",
       "Department_Sales                     22.4157   8.51e+04      0.000      1.000   -1.67e+05    1.67e+05\n",
       "EducationField_Life Sciences         -0.7887      0.803     -0.983      0.326      -2.362       0.784\n",
       "EducationField_Marketing             -0.3631      0.851     -0.426      0.670      -2.032       1.306\n",
       "EducationField_Medical               -0.8917      0.802     -1.112      0.266      -2.464       0.681\n",
       "EducationField_Other                 -0.8712      0.861     -1.011      0.312      -2.559       0.817\n",
       "EducationField_Technical Degree       0.1212      0.820      0.148      0.882      -1.486       1.729\n",
       "MaritalStatus_Married                 0.3211      0.266      1.209      0.227      -0.200       0.842\n",
       "MaritalStatus_Single                  1.1589      0.344      3.371      0.001       0.485       1.833\n",
       "=====================================================================================================\n",
       "\"\"\""
      ]
     },
     "execution_count": 21,
     "metadata": {},
     "output_type": "execute_result"
    }
   ],
   "source": [
    "model = sm.Logit(y, X)\n",
    "result = model.fit() \n",
    "result.summary()"
   ]
  },
  {
   "cell_type": "markdown",
   "metadata": {},
   "source": [
    "### SVM 4"
   ]
  },
  {
   "cell_type": "code",
   "execution_count": 39,
   "metadata": {},
   "outputs": [
    {
     "data": {
      "text/plain": [
       "0.84"
      ]
     },
     "execution_count": 39,
     "metadata": {},
     "output_type": "execute_result"
    }
   ],
   "source": [
    "accuracies_svm4 = []\n",
    "cs = [1, 5, 10]\n",
    "gammas = [0.1, 0.5, 1.0]\n",
    "for i in cs: \n",
    "    for j in gammas: \n",
    "        \n",
    "        ####################################\n",
    "        model_svm = SVC(C=i, gamma=j, random_state=42)\n",
    "        model_svm.fit(X_train, y_train)\n",
    "        y_pred = model_svm.predict(X_test)\n",
    "        pre = display_metrics_acc('SVM', y_pred, y_test)\n",
    "        accuracies_svm4.append(pre)\n",
    "        \n",
    "round(np.mean(accuracies_svm4),2)"
   ]
  },
  {
   "cell_type": "markdown",
   "metadata": {},
   "source": [
    "### Test Set 2 (sample)\n",
    "### Train the dataset 2"
   ]
  },
  {
   "cell_type": "code",
   "execution_count": 24,
   "metadata": {},
   "outputs": [
    {
     "data": {
      "text/plain": [
       "Index(['Age', 'Attrition', 'BusinessTravel', 'DailyRate', 'Department',\n",
       "       'DistanceFromHome', 'Education', 'EducationField', 'EmployeeCount',\n",
       "       'EmployeeNumber', 'EnvironmentSatisfaction', 'HourlyRate',\n",
       "       'JobInvolvement', 'JobLevel', 'JobRole', 'JobSatisfaction',\n",
       "       'MaritalStatus', 'MonthlyIncome', 'MonthlyRate', 'NumCompaniesWorked',\n",
       "       'Over18', 'OverTime', 'PercentSalaryHike', 'PerformanceRating',\n",
       "       'RelationshipSatisfaction', 'StandardHours', 'StockOptionLevel',\n",
       "       'TotalWorkingYears', 'TrainingTimesLastYear', 'WorkLifeBalance',\n",
       "       'YearsAtCompany', 'YearsInCurrentRole', 'YearsSinceLastPromotion',\n",
       "       'YearsWithCurrManager', 'Gender_Male'],\n",
       "      dtype='object')"
      ]
     },
     "execution_count": 24,
     "metadata": {},
     "output_type": "execute_result"
    }
   ],
   "source": [
    "sample = data.copy()\n",
    "cat_feats = ['Gender'] \n",
    "sample = pd.get_dummies(data, columns=cat_feats, drop_first = True)\n",
    "sample['OverTime'] = sample['OverTime'].map({'Yes': 1, 'No': 0})\n",
    "sample['Attrition'] = sample['Attrition'].map({'Yes': 1, 'No': 0})\n",
    "sample['PerformanceRating'] = sample['PerformanceRating'].map({3: 0, 4: 1})\n",
    "sample.columns"
   ]
  },
  {
   "cell_type": "code",
   "execution_count": 25,
   "metadata": {},
   "outputs": [
    {
     "data": {
      "text/html": [
       "<div>\n",
       "<style scoped>\n",
       "    .dataframe tbody tr th:only-of-type {\n",
       "        vertical-align: middle;\n",
       "    }\n",
       "\n",
       "    .dataframe tbody tr th {\n",
       "        vertical-align: top;\n",
       "    }\n",
       "\n",
       "    .dataframe thead th {\n",
       "        text-align: right;\n",
       "    }\n",
       "</style>\n",
       "<table border=\"1\" class=\"dataframe\">\n",
       "  <thead>\n",
       "    <tr style=\"text-align: right;\">\n",
       "      <th></th>\n",
       "      <th>Attrition</th>\n",
       "      <th>DailyRate</th>\n",
       "      <th>DistanceFromHome</th>\n",
       "      <th>Education</th>\n",
       "      <th>EmployeeNumber</th>\n",
       "      <th>EnvironmentSatisfaction</th>\n",
       "      <th>HourlyRate</th>\n",
       "      <th>JobInvolvement</th>\n",
       "      <th>JobSatisfaction</th>\n",
       "      <th>MonthlyRate</th>\n",
       "      <th>NumCompaniesWorked</th>\n",
       "      <th>OverTime</th>\n",
       "      <th>RelationshipSatisfaction</th>\n",
       "      <th>StockOptionLevel</th>\n",
       "      <th>TrainingTimesLastYear</th>\n",
       "      <th>WorkLifeBalance</th>\n",
       "      <th>YearsSinceLastPromotion</th>\n",
       "      <th>Gender_Male</th>\n",
       "    </tr>\n",
       "  </thead>\n",
       "  <tbody>\n",
       "    <tr>\n",
       "      <th>0</th>\n",
       "      <td>1</td>\n",
       "      <td>1102</td>\n",
       "      <td>1</td>\n",
       "      <td>2</td>\n",
       "      <td>1</td>\n",
       "      <td>2</td>\n",
       "      <td>94</td>\n",
       "      <td>3</td>\n",
       "      <td>4</td>\n",
       "      <td>19479</td>\n",
       "      <td>8</td>\n",
       "      <td>1</td>\n",
       "      <td>1</td>\n",
       "      <td>0</td>\n",
       "      <td>0</td>\n",
       "      <td>1</td>\n",
       "      <td>0</td>\n",
       "      <td>0</td>\n",
       "    </tr>\n",
       "    <tr>\n",
       "      <th>1</th>\n",
       "      <td>0</td>\n",
       "      <td>279</td>\n",
       "      <td>8</td>\n",
       "      <td>1</td>\n",
       "      <td>2</td>\n",
       "      <td>3</td>\n",
       "      <td>61</td>\n",
       "      <td>2</td>\n",
       "      <td>2</td>\n",
       "      <td>24907</td>\n",
       "      <td>1</td>\n",
       "      <td>0</td>\n",
       "      <td>4</td>\n",
       "      <td>1</td>\n",
       "      <td>3</td>\n",
       "      <td>3</td>\n",
       "      <td>1</td>\n",
       "      <td>1</td>\n",
       "    </tr>\n",
       "    <tr>\n",
       "      <th>2</th>\n",
       "      <td>1</td>\n",
       "      <td>1373</td>\n",
       "      <td>2</td>\n",
       "      <td>2</td>\n",
       "      <td>4</td>\n",
       "      <td>4</td>\n",
       "      <td>92</td>\n",
       "      <td>2</td>\n",
       "      <td>3</td>\n",
       "      <td>2396</td>\n",
       "      <td>6</td>\n",
       "      <td>1</td>\n",
       "      <td>2</td>\n",
       "      <td>0</td>\n",
       "      <td>3</td>\n",
       "      <td>3</td>\n",
       "      <td>0</td>\n",
       "      <td>1</td>\n",
       "    </tr>\n",
       "    <tr>\n",
       "      <th>3</th>\n",
       "      <td>0</td>\n",
       "      <td>1392</td>\n",
       "      <td>3</td>\n",
       "      <td>4</td>\n",
       "      <td>5</td>\n",
       "      <td>4</td>\n",
       "      <td>56</td>\n",
       "      <td>3</td>\n",
       "      <td>3</td>\n",
       "      <td>23159</td>\n",
       "      <td>1</td>\n",
       "      <td>1</td>\n",
       "      <td>3</td>\n",
       "      <td>0</td>\n",
       "      <td>3</td>\n",
       "      <td>3</td>\n",
       "      <td>3</td>\n",
       "      <td>0</td>\n",
       "    </tr>\n",
       "    <tr>\n",
       "      <th>4</th>\n",
       "      <td>0</td>\n",
       "      <td>591</td>\n",
       "      <td>2</td>\n",
       "      <td>1</td>\n",
       "      <td>7</td>\n",
       "      <td>1</td>\n",
       "      <td>40</td>\n",
       "      <td>3</td>\n",
       "      <td>2</td>\n",
       "      <td>16632</td>\n",
       "      <td>9</td>\n",
       "      <td>0</td>\n",
       "      <td>4</td>\n",
       "      <td>1</td>\n",
       "      <td>3</td>\n",
       "      <td>3</td>\n",
       "      <td>2</td>\n",
       "      <td>1</td>\n",
       "    </tr>\n",
       "    <tr>\n",
       "      <th>...</th>\n",
       "      <td>...</td>\n",
       "      <td>...</td>\n",
       "      <td>...</td>\n",
       "      <td>...</td>\n",
       "      <td>...</td>\n",
       "      <td>...</td>\n",
       "      <td>...</td>\n",
       "      <td>...</td>\n",
       "      <td>...</td>\n",
       "      <td>...</td>\n",
       "      <td>...</td>\n",
       "      <td>...</td>\n",
       "      <td>...</td>\n",
       "      <td>...</td>\n",
       "      <td>...</td>\n",
       "      <td>...</td>\n",
       "      <td>...</td>\n",
       "      <td>...</td>\n",
       "    </tr>\n",
       "    <tr>\n",
       "      <th>1465</th>\n",
       "      <td>0</td>\n",
       "      <td>884</td>\n",
       "      <td>23</td>\n",
       "      <td>2</td>\n",
       "      <td>2061</td>\n",
       "      <td>3</td>\n",
       "      <td>41</td>\n",
       "      <td>4</td>\n",
       "      <td>4</td>\n",
       "      <td>12290</td>\n",
       "      <td>4</td>\n",
       "      <td>0</td>\n",
       "      <td>3</td>\n",
       "      <td>1</td>\n",
       "      <td>3</td>\n",
       "      <td>3</td>\n",
       "      <td>0</td>\n",
       "      <td>1</td>\n",
       "    </tr>\n",
       "    <tr>\n",
       "      <th>1466</th>\n",
       "      <td>0</td>\n",
       "      <td>613</td>\n",
       "      <td>6</td>\n",
       "      <td>1</td>\n",
       "      <td>2062</td>\n",
       "      <td>4</td>\n",
       "      <td>42</td>\n",
       "      <td>2</td>\n",
       "      <td>1</td>\n",
       "      <td>21457</td>\n",
       "      <td>4</td>\n",
       "      <td>0</td>\n",
       "      <td>1</td>\n",
       "      <td>1</td>\n",
       "      <td>5</td>\n",
       "      <td>3</td>\n",
       "      <td>1</td>\n",
       "      <td>1</td>\n",
       "    </tr>\n",
       "    <tr>\n",
       "      <th>1467</th>\n",
       "      <td>0</td>\n",
       "      <td>155</td>\n",
       "      <td>4</td>\n",
       "      <td>3</td>\n",
       "      <td>2064</td>\n",
       "      <td>2</td>\n",
       "      <td>87</td>\n",
       "      <td>4</td>\n",
       "      <td>2</td>\n",
       "      <td>5174</td>\n",
       "      <td>1</td>\n",
       "      <td>1</td>\n",
       "      <td>2</td>\n",
       "      <td>1</td>\n",
       "      <td>0</td>\n",
       "      <td>3</td>\n",
       "      <td>0</td>\n",
       "      <td>1</td>\n",
       "    </tr>\n",
       "    <tr>\n",
       "      <th>1468</th>\n",
       "      <td>0</td>\n",
       "      <td>1023</td>\n",
       "      <td>2</td>\n",
       "      <td>3</td>\n",
       "      <td>2065</td>\n",
       "      <td>4</td>\n",
       "      <td>63</td>\n",
       "      <td>2</td>\n",
       "      <td>2</td>\n",
       "      <td>13243</td>\n",
       "      <td>2</td>\n",
       "      <td>0</td>\n",
       "      <td>4</td>\n",
       "      <td>0</td>\n",
       "      <td>3</td>\n",
       "      <td>2</td>\n",
       "      <td>0</td>\n",
       "      <td>1</td>\n",
       "    </tr>\n",
       "    <tr>\n",
       "      <th>1469</th>\n",
       "      <td>0</td>\n",
       "      <td>628</td>\n",
       "      <td>8</td>\n",
       "      <td>3</td>\n",
       "      <td>2068</td>\n",
       "      <td>2</td>\n",
       "      <td>82</td>\n",
       "      <td>4</td>\n",
       "      <td>3</td>\n",
       "      <td>10228</td>\n",
       "      <td>2</td>\n",
       "      <td>0</td>\n",
       "      <td>1</td>\n",
       "      <td>0</td>\n",
       "      <td>3</td>\n",
       "      <td>4</td>\n",
       "      <td>1</td>\n",
       "      <td>1</td>\n",
       "    </tr>\n",
       "  </tbody>\n",
       "</table>\n",
       "<p>1470 rows × 18 columns</p>\n",
       "</div>"
      ],
      "text/plain": [
       "      Attrition  DailyRate  DistanceFromHome  Education  EmployeeNumber  \\\n",
       "0             1       1102                 1          2               1   \n",
       "1             0        279                 8          1               2   \n",
       "2             1       1373                 2          2               4   \n",
       "3             0       1392                 3          4               5   \n",
       "4             0        591                 2          1               7   \n",
       "...         ...        ...               ...        ...             ...   \n",
       "1465          0        884                23          2            2061   \n",
       "1466          0        613                 6          1            2062   \n",
       "1467          0        155                 4          3            2064   \n",
       "1468          0       1023                 2          3            2065   \n",
       "1469          0        628                 8          3            2068   \n",
       "\n",
       "      EnvironmentSatisfaction  HourlyRate  JobInvolvement  JobSatisfaction  \\\n",
       "0                           2          94               3                4   \n",
       "1                           3          61               2                2   \n",
       "2                           4          92               2                3   \n",
       "3                           4          56               3                3   \n",
       "4                           1          40               3                2   \n",
       "...                       ...         ...             ...              ...   \n",
       "1465                        3          41               4                4   \n",
       "1466                        4          42               2                1   \n",
       "1467                        2          87               4                2   \n",
       "1468                        4          63               2                2   \n",
       "1469                        2          82               4                3   \n",
       "\n",
       "      MonthlyRate  NumCompaniesWorked  OverTime  RelationshipSatisfaction  \\\n",
       "0           19479                   8         1                         1   \n",
       "1           24907                   1         0                         4   \n",
       "2            2396                   6         1                         2   \n",
       "3           23159                   1         1                         3   \n",
       "4           16632                   9         0                         4   \n",
       "...           ...                 ...       ...                       ...   \n",
       "1465        12290                   4         0                         3   \n",
       "1466        21457                   4         0                         1   \n",
       "1467         5174                   1         1                         2   \n",
       "1468        13243                   2         0                         4   \n",
       "1469        10228                   2         0                         1   \n",
       "\n",
       "      StockOptionLevel  TrainingTimesLastYear  WorkLifeBalance  \\\n",
       "0                    0                      0                1   \n",
       "1                    1                      3                3   \n",
       "2                    0                      3                3   \n",
       "3                    0                      3                3   \n",
       "4                    1                      3                3   \n",
       "...                ...                    ...              ...   \n",
       "1465                 1                      3                3   \n",
       "1466                 1                      5                3   \n",
       "1467                 1                      0                3   \n",
       "1468                 0                      3                2   \n",
       "1469                 0                      3                4   \n",
       "\n",
       "      YearsSinceLastPromotion  Gender_Male  \n",
       "0                           0            0  \n",
       "1                           1            1  \n",
       "2                           0            1  \n",
       "3                           3            0  \n",
       "4                           2            1  \n",
       "...                       ...          ...  \n",
       "1465                        0            1  \n",
       "1466                        1            1  \n",
       "1467                        0            1  \n",
       "1468                        0            1  \n",
       "1469                        1            1  \n",
       "\n",
       "[1470 rows x 18 columns]"
      ]
     },
     "execution_count": 25,
     "metadata": {},
     "output_type": "execute_result"
    }
   ],
   "source": [
    "sample = sample.drop(['Age','JobRole','BusinessTravel','Department','EducationField','MaritalStatus','Over18','MonthlyIncome',\n",
    "                      'TotalWorkingYears','PerformanceRating','PercentSalaryHike', 'YearsAtCompany', \n",
    "                      'YearsInCurrentRole','YearsWithCurrManager','JobLevel','EmployeeCount','StandardHours'], axis=1) \n",
    "sample = sample.dropna()\n",
    "sample"
   ]
  },
  {
   "cell_type": "code",
   "execution_count": 26,
   "metadata": {},
   "outputs": [],
   "source": [
    "X = sample.drop('Attrition',axis=1) \n",
    "y = sample['Attrition'] \n",
    "\n",
    "X_train, X_test, y_train, y_test = train_test_split(X, y, test_size=0.30, random_state=42)"
   ]
  },
  {
   "cell_type": "markdown",
   "metadata": {},
   "source": [
    "### Decision Tree 2"
   ]
  },
  {
   "cell_type": "code",
   "execution_count": 28,
   "metadata": {},
   "outputs": [
    {
     "name": "stdout",
     "output_type": "stream",
     "text": [
      "Feature ranking:\n",
      "                   Feature Total Reduction of Criterion\n",
      "0                 OverTime                      0.25297\n",
      "1         StockOptionLevel                     0.193446\n",
      "2         DistanceFromHome                     0.104203\n",
      "3          JobSatisfaction                      0.10212\n",
      "4  YearsSinceLastPromotion                     0.064433\n",
      "5           JobInvolvement                     0.061328\n",
      "6       NumCompaniesWorked                     0.056894\n",
      "7           EmployeeNumber                     0.055628\n",
      "8                DailyRate                     0.055283\n",
      "9                Education                     0.053694\n"
     ]
    },
    {
     "data": {
      "text/plain": [
       "<matplotlib.axes._subplots.AxesSubplot at 0x25fe6a01b00>"
      ]
     },
     "execution_count": 28,
     "metadata": {},
     "output_type": "execute_result"
    },
    {
     "data": {
      "image/png": "[encoded data removed]",
      "text/plain": [
       "<Figure size 1080x720 with 1 Axes>"
      ]
     },
     "metadata": {
      "needs_background": "light"
     },
     "output_type": "display_data"
    }
   ],
   "source": [
    "model_dt = DecisionTreeClassifier(criterion='entropy', random_state=42, max_depth=5)\n",
    "model_dt.fit(X_train, y_train)\n",
    "importances = model_dt.feature_importances_ \n",
    "indices = np.argsort(importances)[::-1]\n",
    "\n",
    "print(\"Feature ranking:\")\n",
    "\n",
    "feature_names = X_train.columns \n",
    "\n",
    "fi = pd.DataFrame([feature_names[indices[0:10]], importances[indices][0:10]])\n",
    "fi = fi.T\n",
    "fi.columns = ['Feature', 'Total Reduction of Criterion']\n",
    "\n",
    "print(fi)\n",
    "\n",
    "plt.figure(figsize=(15,10))\n",
    "plt.title(\"Feature importances\")\n",
    "\n",
    "sns.barplot(x=\"Total Reduction of Criterion\", y=\"Feature\", data=fi, palette=\"BuPu_r\")"
   ]
  },
  {
   "cell_type": "code",
   "execution_count": 29,
   "metadata": {},
   "outputs": [
    {
     "name": "stdout",
     "output_type": "stream",
     "text": [
      "confusion matrix: \n",
      " [[364  16]\n",
      " [ 53   8]]\n",
      "______________________________________________\n",
      "Model: Decision Tree\n",
      "Accuracy: 0.8435374149659864\n",
      "Precision: 0.3333333333333333\n",
      "Recall: 0.13114754098360656\n",
      "F1-score: 0.18823529411764708\n",
      "AUC: 0.5445211389128558\n",
      "______________________________________________\n",
      "\n"
     ]
    }
   ],
   "source": [
    "y_pred = model_dt.predict(X_test)\n",
    "confusion_matrix_results = confusion_matrix(y_test, y_pred)\n",
    "print('confusion matrix: \\n', confusion_matrix_results)\n",
    "display_metrics('Decision Tree', y_pred, y_test)"
   ]
  },
  {
   "cell_type": "code",
   "execution_count": 30,
   "metadata": {},
   "outputs": [
    {
     "data": {
      "text/plain": [
       "0.83"
      ]
     },
     "execution_count": 30,
     "metadata": {},
     "output_type": "execute_result"
    }
   ],
   "source": [
    "accuracies_dt2 = []\n",
    "max_depth = [5,6,7,8,9]\n",
    "for i in max_depth: \n",
    "    model_dt = DecisionTreeClassifier(criterion='entropy', random_state=42, max_depth=i)\n",
    "    model_dt.fit(X_train, y_train)\n",
    "    y_pred = model_dt.predict(X_test)\n",
    "    acc = display_metrics_acc('Decision Tree',y_pred,y_test)\n",
    "    \n",
    "    accuracies_dt2.append(acc)\n",
    "    \n",
    "round(np.mean(accuracies_dt2),2)"
   ]
  },
  {
   "cell_type": "code",
   "execution_count": 31,
   "metadata": {},
   "outputs": [
    {
     "data": {
      "text/plain": [
       "[0.8435374149659864,\n",
       " 0.8435374149659864,\n",
       " 0.8412698412698413,\n",
       " 0.8027210884353742,\n",
       " 0.8072562358276644]"
      ]
     },
     "execution_count": 31,
     "metadata": {},
     "output_type": "execute_result"
    }
   ],
   "source": [
    "accuracies_dt2"
   ]
  },
  {
   "cell_type": "markdown",
   "metadata": {},
   "source": [
    "### Random Forest 2"
   ]
  },
  {
   "cell_type": "code",
   "execution_count": 32,
   "metadata": {},
   "outputs": [
    {
     "name": "stdout",
     "output_type": "stream",
     "text": [
      "confusion matrix: \n",
      " [[379   1]\n",
      " [ 55   6]]\n",
      "______________________________________________\n",
      "Model: Random Forest\n",
      "Accuracy: 0.873015873015873\n",
      "Precision: 0.8571428571428571\n",
      "Recall: 0.09836065573770492\n",
      "F1-score: 0.17647058823529413\n",
      "AUC: 0.5478645383951682\n",
      "______________________________________________\n",
      "\n"
     ]
    }
   ],
   "source": [
    "model_rf = RandomForestClassifier(n_estimators=500, random_state=42)\n",
    "model_rf.fit(X_train, y_train)\n",
    "importances = model_rf.feature_importances_\n",
    "indices = np.argsort(importances)[::-1]\n",
    "y_pred = model_rf.predict(X_test)\n",
    "confusion_matrix_results = confusion_matrix(y_test, y_pred)\n",
    "print('confusion matrix: \\n', confusion_matrix_results)\n",
    "display_metrics('Random Forest', y_pred, y_test)"
   ]
  },
  {
   "cell_type": "code",
   "execution_count": 33,
   "metadata": {},
   "outputs": [
    {
     "data": {
      "text/plain": [
       "0.87"
      ]
     },
     "execution_count": 33,
     "metadata": {},
     "output_type": "execute_result"
    }
   ],
   "source": [
    "accuracies_rf2 = []\n",
    "random_forest = [10,100,250,500,750]\n",
    "for i in random_forest: \n",
    "    model_rf = RandomForestClassifier(n_estimators=i, random_state=42)\n",
    "    model_rf.fit(X_train, y_train)\n",
    "    y_pred = model_rf.predict(X_test)\n",
    "    confusion_matrix_results = confusion_matrix(y_test, y_pred)\n",
    "    acc = display_metrics_acc('Random Forest', y_pred, y_test)\n",
    "    accuracies_rf2.append(acc)\n",
    "    \n",
    "round(np.mean(accuracies_rf2),2)"
   ]
  },
  {
   "cell_type": "code",
   "execution_count": 34,
   "metadata": {},
   "outputs": [
    {
     "data": {
      "text/plain": [
       "[0.8616780045351474,\n",
       " 0.8662131519274376,\n",
       " 0.8707482993197279,\n",
       " 0.873015873015873,\n",
       " 0.8707482993197279]"
      ]
     },
     "execution_count": 34,
     "metadata": {},
     "output_type": "execute_result"
    }
   ],
   "source": [
    "accuracies_rf2"
   ]
  },
  {
   "cell_type": "markdown",
   "metadata": {},
   "source": [
    "### Logistic Regression 2\n",
    "### Sklearn 2"
   ]
  },
  {
   "cell_type": "code",
   "execution_count": 35,
   "metadata": {},
   "outputs": [
    {
     "name": "stdout",
     "output_type": "stream",
     "text": [
      "confusion matrix: \n",
      " [[380   0]\n",
      " [ 59   2]]\n",
      "______________________________________________\n",
      "Model: Logistic Regression\n",
      "Accuracy: 0.8662131519274376\n",
      "Precision: 1.0\n",
      "Recall: 0.03278688524590164\n",
      "F1-score: 0.06349206349206349\n",
      "AUC: 0.5163934426229508\n",
      "______________________________________________\n",
      "\n"
     ]
    }
   ],
   "source": [
    "model = LogisticRegression()\n",
    "model.fit(X_train, y_train)\n",
    "\n",
    "y_pred = model.predict(X_test)\n",
    "\n",
    "confusion_matrix_results = confusion_matrix(y_test, y_pred)\n",
    "\n",
    "print('confusion matrix: \\n', confusion_matrix_results)\n",
    "display_metrics('Logistic Regression', y_pred, y_test)"
   ]
  },
  {
   "cell_type": "code",
   "execution_count": 36,
   "metadata": {},
   "outputs": [
    {
     "data": {
      "text/plain": [
       "0.86"
      ]
     },
     "execution_count": 36,
     "metadata": {},
     "output_type": "execute_result"
    }
   ],
   "source": [
    "X = sample.drop('Attrition',axis=1) \n",
    "y = sample['Attrition'] \n",
    "\n",
    "accuracies_lr2 = []\n",
    "test_sizes = [0.3, 0.4, 0.5, 0.6, 0.7]\n",
    "for i in test_sizes: \n",
    "        \n",
    "    X_train, X_test, y_train, y_test = train_test_split(X, y, test_size=i, random_state=42)\n",
    "    model = LogisticRegression()\n",
    "    model.fit(X_train, y_train)\n",
    "    y_pred = model.predict(X_test)\n",
    "    acc, precision, recall, f1score, auc = classification_metrics(y_pred, y_test)\n",
    "    accuracies_lr2.append(acc)\n",
    "    \n",
    "round(np.mean(accuracies_lr2),2)"
   ]
  },
  {
   "cell_type": "code",
   "execution_count": 37,
   "metadata": {},
   "outputs": [
    {
     "data": {
      "text/plain": [
       "[0.8662131519274376,\n",
       " 0.8622448979591837,\n",
       " 0.8598639455782313,\n",
       " 0.8514739229024944,\n",
       " 0.8454810495626822]"
      ]
     },
     "execution_count": 37,
     "metadata": {},
     "output_type": "execute_result"
    }
   ],
   "source": [
    "accuracies_lr2"
   ]
  },
  {
   "cell_type": "markdown",
   "metadata": {},
   "source": [
    "### SVM 2"
   ]
  },
  {
   "cell_type": "code",
   "execution_count": 38,
   "metadata": {},
   "outputs": [
    {
     "data": {
      "text/plain": [
       "0.84"
      ]
     },
     "execution_count": 38,
     "metadata": {},
     "output_type": "execute_result"
    }
   ],
   "source": [
    "accuracies_svm2 = []\n",
    "cs = [1, 5, 10]\n",
    "gammas = [0.1, 0.5, 1.0]\n",
    "for i in cs: \n",
    "    for j in gammas: \n",
    "        \n",
    "        ####################################\n",
    "        model_svm = SVC(C=i, gamma=j, random_state=42)\n",
    "        model_svm.fit(X_train, y_train)\n",
    "        y_pred = model_svm.predict(X_test)\n",
    "        pre = display_metrics_acc('SVM', y_pred, y_test)\n",
    "        accuracies_svm2.append(pre)\n",
    "        \n",
    "round(np.mean(accuracies_svm2),2)"
   ]
  },
  {
   "cell_type": "code",
   "execution_count": 40,
   "metadata": {},
   "outputs": [
    {
     "data": {
      "text/plain": [
       "[0.8435374149659864,\n",
       " 0.8435374149659864,\n",
       " 0.8435374149659864,\n",
       " 0.8435374149659864,\n",
       " 0.8435374149659864,\n",
       " 0.8435374149659864,\n",
       " 0.8435374149659864,\n",
       " 0.8435374149659864,\n",
       " 0.8435374149659864]"
      ]
     },
     "execution_count": 40,
     "metadata": {},
     "output_type": "execute_result"
    }
   ],
   "source": [
    "accuracies_svm2"
   ]
  },
  {
   "cell_type": "markdown",
   "metadata": {},
   "source": [
    "### Test Set 3 (df)\n",
    "### Train the dataset 3"
   ]
  },
  {
   "cell_type": "code",
   "execution_count": 41,
   "metadata": {},
   "outputs": [],
   "source": [
    "df = data.copy()\n",
    "cat_feats = ['Gender','JobRole','BusinessTravel','Department','EducationField','MaritalStatus'] \n",
    "df = pd.get_dummies(data, columns=cat_feats, drop_first = True)\n",
    "df = df.drop(['Over18'], axis=1)\n",
    "df['OverTime'] = df['OverTime'].map({'Yes': 1, 'No': 0})\n",
    "df['Attrition'] = df['Attrition'].map({'Yes': 1, 'No': 0})\n",
    "df['PerformanceRating'] = df['PerformanceRating'].map({3: 0, 4: 1})\n",
    "df = df.drop(['EmployeeCount','StandardHours'], axis=1) "
   ]
  },
  {
   "cell_type": "code",
   "execution_count": 42,
   "metadata": {},
   "outputs": [],
   "source": [
    "X = df.drop('Attrition',axis=1) \n",
    "y = df['Attrition'] \n",
    "\n",
    "X_train, X_test, y_train, y_test = train_test_split(X, y, test_size=0.30, random_state=42)"
   ]
  },
  {
   "cell_type": "markdown",
   "metadata": {},
   "source": [
    "### Decision Tree 3"
   ]
  },
  {
   "cell_type": "code",
   "execution_count": 43,
   "metadata": {},
   "outputs": [
    {
     "name": "stdout",
     "output_type": "stream",
     "text": [
      "Feature ranking:\n",
      "                       Feature Total Reduction of Criterion\n",
      "0                     OverTime                     0.193786\n",
      "1                MonthlyIncome                     0.154806\n",
      "2            TotalWorkingYears                     0.088446\n",
      "3                   HourlyRate                     0.070383\n",
      "4             DistanceFromHome                     0.069096\n",
      "5         MaritalStatus_Single                     0.063129\n",
      "6               JobInvolvement                     0.048543\n",
      "7             StockOptionLevel                     0.036156\n",
      "8               YearsAtCompany                     0.031894\n",
      "9           NumCompaniesWorked                     0.031768\n",
      "10                 MonthlyRate                     0.029297\n",
      "11             JobSatisfaction                     0.027442\n",
      "12     YearsSinceLastPromotion                     0.026135\n",
      "13              EmployeeNumber                     0.025831\n",
      "14           PercentSalaryHike                     0.025826\n",
      "15                   DailyRate                      0.02349\n",
      "16  JobRole_Research Scientist                     0.021651\n",
      "17     EnvironmentSatisfaction                     0.016356\n"
     ]
    },
    {
     "data": {
      "text/plain": [
       "<matplotlib.axes._subplots.AxesSubplot at 0x25fe6db32b0>"
      ]
     },
     "execution_count": 43,
     "metadata": {},
     "output_type": "execute_result"
    },
    {
     "data": {
      "image/png": "[encoded data removed]",
      "text/plain": [
       "<Figure size 1080x720 with 1 Axes>"
      ]
     },
     "metadata": {
      "needs_background": "light"
     },
     "output_type": "display_data"
    }
   ],
   "source": [
    "model_dt = DecisionTreeClassifier(criterion='entropy', random_state=42, max_depth=5)\n",
    "model_dt.fit(X_train, y_train)\n",
    "importances = model_dt.feature_importances_ \n",
    "indices = np.argsort(importances)[::-1]\n",
    "print(\"Feature ranking:\")\n",
    "\n",
    "feature_names = X_train.columns \n",
    "\n",
    "fi = pd.DataFrame([feature_names[indices[0:18]], importances[indices][0:18]])\n",
    "fi = fi.T\n",
    "fi.columns = ['Feature', 'Total Reduction of Criterion']\n",
    "\n",
    "print(fi)\n",
    "\n",
    "plt.figure(figsize=(15,10))\n",
    "plt.title(\"Feature importances\")\n",
    "\n",
    "sns.barplot(x=\"Total Reduction of Criterion\", y=\"Feature\", data=fi, palette=\"BuPu_r\")"
   ]
  },
  {
   "cell_type": "code",
   "execution_count": 44,
   "metadata": {},
   "outputs": [
    {
     "name": "stdout",
     "output_type": "stream",
     "text": [
      "confusion matrix: \n",
      " [[362  18]\n",
      " [ 50  11]]\n",
      "______________________________________________\n",
      "Model: Decision Tree\n",
      "Accuracy: 0.8458049886621315\n",
      "Precision: 0.3793103448275862\n",
      "Recall: 0.18032786885245902\n",
      "F1-score: 0.24444444444444446\n",
      "AUC: 0.5664797238999136\n",
      "______________________________________________\n",
      "\n"
     ]
    }
   ],
   "source": [
    "y_pred = model_dt.predict(X_test)\n",
    "confusion_matrix_results = confusion_matrix(y_test, y_pred)\n",
    "print('confusion matrix: \\n', confusion_matrix_results)\n",
    "display_metrics('Decision Tree', y_pred, y_test)"
   ]
  },
  {
   "cell_type": "code",
   "execution_count": 45,
   "metadata": {},
   "outputs": [
    {
     "data": {
      "text/plain": [
       "0.83"
      ]
     },
     "execution_count": 45,
     "metadata": {},
     "output_type": "execute_result"
    }
   ],
   "source": [
    "accuracies_dt3 = []\n",
    "max_depth = [5,6,7,8,9]\n",
    "for i in max_depth: \n",
    "    model_dt = DecisionTreeClassifier(criterion='entropy', random_state=42, max_depth=i)\n",
    "    model_dt.fit(X_train, y_train)\n",
    "    y_pred = model_dt.predict(X_test)\n",
    "    acc = display_metrics_acc('Decision Tree',y_pred,y_test)\n",
    "    \n",
    "    accuracies_dt3.append(acc)\n",
    "    \n",
    "round(np.mean(accuracies_dt3),2)"
   ]
  },
  {
   "cell_type": "code",
   "execution_count": 46,
   "metadata": {},
   "outputs": [
    {
     "data": {
      "text/plain": [
       "[0.8458049886621315,\n",
       " 0.8435374149659864,\n",
       " 0.8344671201814059,\n",
       " 0.8344671201814059,\n",
       " 0.8140589569160998]"
      ]
     },
     "execution_count": 46,
     "metadata": {},
     "output_type": "execute_result"
    }
   ],
   "source": [
    "accuracies_dt3"
   ]
  },
  {
   "cell_type": "markdown",
   "metadata": {},
   "source": [
    "### Random Forest 3"
   ]
  },
  {
   "cell_type": "code",
   "execution_count": 51,
   "metadata": {},
   "outputs": [
    {
     "name": "stdout",
     "output_type": "stream",
     "text": [
      "Feature ranking:\n",
      "                    Feature Total Reduction of Criterion\n",
      "0             MonthlyIncome                     0.075212\n",
      "1                       Age                     0.056758\n",
      "2                  OverTime                     0.052659\n",
      "3         TotalWorkingYears                     0.049723\n",
      "4            EmployeeNumber                     0.047634\n",
      "5                 DailyRate                     0.046801\n",
      "6               MonthlyRate                       0.0441\n",
      "7                HourlyRate                     0.041745\n",
      "8          DistanceFromHome                      0.04077\n",
      "9            YearsAtCompany                     0.040394\n",
      "10       NumCompaniesWorked                     0.034954\n",
      "11     YearsWithCurrManager                       0.0318\n",
      "12         StockOptionLevel                     0.031679\n",
      "13       YearsInCurrentRole                     0.031083\n",
      "14        PercentSalaryHike                     0.030597\n",
      "15    TrainingTimesLastYear                     0.025045\n",
      "16  YearsSinceLastPromotion                     0.024735\n",
      "17  EnvironmentSatisfaction                     0.024429\n"
     ]
    },
    {
     "data": {
      "text/plain": [
       "<matplotlib.axes._subplots.AxesSubplot at 0x25fe6a68320>"
      ]
     },
     "execution_count": 51,
     "metadata": {},
     "output_type": "execute_result"
    },
    {
     "data": {
      "image/png": "[encoded data removed]",
      "text/plain": [
       "<Figure size 1080x720 with 1 Axes>"
      ]
     },
     "metadata": {
      "needs_background": "light"
     },
     "output_type": "display_data"
    }
   ],
   "source": [
    "model_rf = RandomForestClassifier(n_estimators=500, random_state=42)\n",
    "model_rf.fit(X_train, y_train)\n",
    "importances = model_rf.feature_importances_\n",
    "indices = np.argsort(importances)[::-1]\n",
    "\n",
    "importances = model_rf.feature_importances_\n",
    "indices = np.argsort(importances)[::-1]\n",
    "\n",
    "# Print the feature ranking\n",
    "print(\"Feature ranking:\")\n",
    "\n",
    "feature_names = X_train.columns \n",
    "\n",
    "fi = pd.DataFrame([feature_names[indices[0:18]], importances[indices][0:18]])\n",
    "fi = fi.T\n",
    "fi.columns = ['Feature', 'Total Reduction of Criterion']\n",
    "print(fi)\n",
    "\n",
    "\n",
    "plt.figure(figsize=(15,10))\n",
    "plt.title(\"Feature importances\")\n",
    "\n",
    "sns.set_color_codes(\"pastel\")\n",
    "sns.barplot(x=\"Total Reduction of Criterion\", y=\"Feature\", data=fi, palette=\"magma\")"
   ]
  },
  {
   "cell_type": "code",
   "execution_count": 52,
   "metadata": {},
   "outputs": [
    {
     "name": "stdout",
     "output_type": "stream",
     "text": [
      "confusion matrix: \n",
      " [[377   3]\n",
      " [ 56   5]]\n",
      "______________________________________________\n",
      "Model: Random Forest\n",
      "Accuracy: 0.8662131519274376\n",
      "Precision: 0.625\n",
      "Recall: 0.08196721311475409\n",
      "F1-score: 0.14492753623188404\n",
      "AUC: 0.5370362381363245\n",
      "______________________________________________\n",
      "\n"
     ]
    }
   ],
   "source": [
    "y_pred = model_rf.predict(X_test)\n",
    "confusion_matrix_results = confusion_matrix(y_test, y_pred)\n",
    "print('confusion matrix: \\n', confusion_matrix_results)\n",
    "display_metrics('Random Forest', y_pred, y_test)"
   ]
  },
  {
   "cell_type": "code",
   "execution_count": 53,
   "metadata": {},
   "outputs": [
    {
     "data": {
      "text/plain": [
       "0.87"
      ]
     },
     "execution_count": 53,
     "metadata": {},
     "output_type": "execute_result"
    }
   ],
   "source": [
    "accuracies_rf3 = []\n",
    "random_forest = [10,100,250,500,750]\n",
    "for i in random_forest: \n",
    "    model_rf = RandomForestClassifier(n_estimators=i, random_state=42)\n",
    "    model_rf.fit(X_train, y_train)\n",
    "    y_pred = model_rf.predict(X_test)\n",
    "    confusion_matrix_results = confusion_matrix(y_test, y_pred)\n",
    "    acc = display_metrics_acc('Random Forest', y_pred, y_test)\n",
    "    accuracies_rf3.append(acc)\n",
    "    \n",
    "round(np.mean(accuracies_rf3),2)"
   ]
  },
  {
   "cell_type": "code",
   "execution_count": 54,
   "metadata": {},
   "outputs": [
    {
     "data": {
      "text/plain": [
       "[0.8639455782312925,\n",
       " 0.8707482993197279,\n",
       " 0.8662131519274376,\n",
       " 0.8662131519274376,\n",
       " 0.8662131519274376]"
      ]
     },
     "execution_count": 54,
     "metadata": {},
     "output_type": "execute_result"
    }
   ],
   "source": [
    "accuracies_rf3"
   ]
  },
  {
   "cell_type": "markdown",
   "metadata": {},
   "source": [
    "### Logistic Regression 3\n",
    "### Sklearn"
   ]
  },
  {
   "cell_type": "code",
   "execution_count": 55,
   "metadata": {},
   "outputs": [
    {
     "name": "stdout",
     "output_type": "stream",
     "text": [
      "confusion matrix: \n",
      " [[380   0]\n",
      " [ 60   1]]\n",
      "______________________________________________\n",
      "Model: Logistic Regression\n",
      "Accuracy: 0.8639455782312925\n",
      "Precision: 1.0\n",
      "Recall: 0.01639344262295082\n",
      "F1-score: 0.03225806451612903\n",
      "AUC: 0.5081967213114754\n",
      "______________________________________________\n",
      "\n"
     ]
    }
   ],
   "source": [
    "model = LogisticRegression()\n",
    "model.fit(X_train, y_train)\n",
    "\n",
    "y_pred = model.predict(X_test)\n",
    "\n",
    "confusion_matrix_results = confusion_matrix(y_test, y_pred)\n",
    "\n",
    "print('confusion matrix: \\n', confusion_matrix_results)\n",
    "display_metrics('Logistic Regression', y_pred, y_test)"
   ]
  },
  {
   "cell_type": "code",
   "execution_count": 56,
   "metadata": {},
   "outputs": [
    {
     "data": {
      "text/plain": [
       "0.85"
      ]
     },
     "execution_count": 56,
     "metadata": {},
     "output_type": "execute_result"
    }
   ],
   "source": [
    "accuracies_lr3 = []\n",
    "test_sizes = [0.3, 0.4, 0.5, 0.6, 0.7]\n",
    "for i in test_sizes: \n",
    "        \n",
    "    X_train, X_test, y_train, y_test = train_test_split(X, y, test_size=i, random_state=42)\n",
    "    model = LogisticRegression()\n",
    "    model.fit(X_train, y_train)\n",
    "    y_pred = model.predict(X_test)\n",
    "    \n",
    "    acc, precision, recall, f1score, auc = classification_metrics(y_pred, y_test)\n",
    "    \n",
    "    accuracies_lr3.append(acc)\n",
    "    \n",
    "round(np.mean(accuracies_lr3),2)\n"
   ]
  },
  {
   "cell_type": "code",
   "execution_count": 57,
   "metadata": {},
   "outputs": [
    {
     "data": {
      "text/plain": [
       "[0.8639455782312925,\n",
       " 0.8622448979591837,\n",
       " 0.85578231292517,\n",
       " 0.8469387755102041,\n",
       " 0.8338192419825073]"
      ]
     },
     "execution_count": 57,
     "metadata": {},
     "output_type": "execute_result"
    }
   ],
   "source": [
    "accuracies_lr3"
   ]
  },
  {
   "cell_type": "markdown",
   "metadata": {},
   "source": [
    "### SVM"
   ]
  },
  {
   "cell_type": "code",
   "execution_count": 58,
   "metadata": {},
   "outputs": [
    {
     "name": "stdout",
     "output_type": "stream",
     "text": [
      "______________________________________________\n",
      "Model: SVM\n",
      "Accuracy: 0.8435374149659864\n",
      "Precision: 0.0\n",
      "Recall: 0.0\n",
      "F1-score: 0.0\n",
      "AUC: 0.5\n",
      "______________________________________________\n",
      "\n"
     ]
    }
   ],
   "source": [
    "model_svm = SVC(C=5, gamma=0.5, random_state=42)\n",
    "\n",
    "model_svm.fit(X_train, y_train)\n",
    "\n",
    "y_pred = model_svm.predict(X_test)\n",
    "\n",
    "display_metrics('SVM', y_pred, y_test)\n"
   ]
  },
  {
   "cell_type": "code",
   "execution_count": 59,
   "metadata": {},
   "outputs": [
    {
     "data": {
      "text/plain": [
       "0.84"
      ]
     },
     "execution_count": 59,
     "metadata": {},
     "output_type": "execute_result"
    }
   ],
   "source": [
    "accuracies_svm3 = []\n",
    "cs = [1, 5, 10]\n",
    "gammas = [0.1, 0.5, 1.0]\n",
    "for i in cs: \n",
    "    for j in gammas: \n",
    "        \n",
    "        ####################################\n",
    "        model_svm = SVC(C=i, gamma=j, random_state=42)\n",
    "        model_svm.fit(X_train, y_train)\n",
    "        y_pred = model_svm.predict(X_test)\n",
    "        pre = display_metrics_acc('SVM', y_pred, y_test)\n",
    "        accuracies_svm3.append(pre)\n",
    "        \n",
    "round(np.mean(accuracies_svm3),2)"
   ]
  },
  {
   "cell_type": "code",
   "execution_count": 60,
   "metadata": {},
   "outputs": [
    {
     "data": {
      "text/plain": [
       "[0.8435374149659864,\n",
       " 0.8435374149659864,\n",
       " 0.8435374149659864,\n",
       " 0.8435374149659864,\n",
       " 0.8435374149659864,\n",
       " 0.8435374149659864,\n",
       " 0.8435374149659864,\n",
       " 0.8435374149659864,\n",
       " 0.8435374149659864]"
      ]
     },
     "execution_count": 60,
     "metadata": {},
     "output_type": "execute_result"
    }
   ],
   "source": [
    "accuracies_svm3"
   ]
  },
  {
   "cell_type": "markdown",
   "metadata": {},
   "source": [
    "### Naive Bayes "
   ]
  },
  {
   "cell_type": "code",
   "execution_count": 61,
   "metadata": {},
   "outputs": [
    {
     "name": "stdout",
     "output_type": "stream",
     "text": [
      "confusion matrix: \n",
      " [[667 201]\n",
      " [ 62  99]]\n",
      "______________________________________________\n",
      "Model: Naive Bayes\n",
      "Accuracy: 0.7444120505344995\n",
      "Precision: 0.33\n",
      "Recall: 0.6149068322981367\n",
      "F1-score: 0.4295010845986985\n",
      "AUC: 0.6916700060108195\n",
      "______________________________________________\n",
      "\n"
     ]
    }
   ],
   "source": [
    "model_nb = GaussianNB()\n",
    "model_nb.fit(X_train, y_train)\n",
    "y_pred = model_nb.predict(X_test)\n",
    "confusion_matrix_results = confusion_matrix(y_test, y_pred)\n",
    "print('confusion matrix: \\n', confusion_matrix_results)\n",
    "display_metrics('Naive Bayes', y_pred, y_test)"
   ]
  },
  {
   "cell_type": "code",
   "execution_count": null,
   "metadata": {},
   "outputs": [],
   "source": []
  }
 ],
 "metadata": {
  "kernelspec": {
   "display_name": "Python 3",
   "language": "python",
   "name": "python3"
  },
  "language_info": {
   "codemirror_mode": {
    "name": "ipython",
    "version": 3
   },
   "file_extension": ".py",
   "mimetype": "text/x-python",
   "name": "python",
   "nbconvert_exporter": "python",
   "pygments_lexer": "ipython3",
   "version": "3.7.3"
  }
 },
 "nbformat": 4,
 "nbformat_minor": 2
}
